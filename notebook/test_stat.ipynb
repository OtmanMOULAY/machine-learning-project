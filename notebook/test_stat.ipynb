{
 "cells": [
  {
   "cell_type": "code",
   "execution_count": 9,
   "metadata": {},
   "outputs": [],
   "source": [
    "import numpy as np\n",
    "from matplotlib import pyplot as plt\n",
    "from scipy.stats import f,t\n",
    "import seaborn as sb\n"
   ]
  },
  {
   "cell_type": "code",
   "execution_count": 12,
   "metadata": {},
   "outputs": [],
   "source": [
    "#test de hottling\n",
    "u = np.array([0.2,-0.2])\n",
    "c = 0.\n",
    "def fun(c):\n",
    "    segma = np.array([[1,c],[c,1]])\n",
    "    n=10\n",
    "    d = 2\n",
    "    x  = np.random.multivariate_normal(u,segma,size=n)\n",
    "\n",
    "    np.random.seed(42)  \n",
    "    xbar  = x.mean(axis=0)\n",
    "    su  = np.cov(x.T)\n",
    "    T = n*xbar.T @ np.linalg.inv(su) @ xbar\n",
    "\n",
    "    F = (n-d)/(d*(n-1))*T\n",
    "    pvalu = 1-f.cdf(F,d,n-d)\n",
    "    student_t1 = (n**0.5)*x[:,0].mean()/x[:,0].std(ddof = 1)\n",
    "\n",
    "    student_t2 = (n**0.5)*x[:,1].mean()/x[:,1].std(ddof = 1)\n",
    "    pvalu1 = 2*(1-t.cdf(abs(student_t1),n-1))\n",
    "    pvalu2 = 2*(1-t.cdf(abs(student_t2),n-1))\n",
    "    \n",
    "    dic = dict(name = \"hottling\",pvalue=pvalu1,c = c)\n",
    "    dic2 = dict(name = \"hottling\",pvalue=pvalu2,c=  c)\n",
    "    return dic,dic2\n",
    "\n",
    "\n",
    "\n"
   ]
  },
  {
   "cell_type": "code",
   "execution_count": 13,
   "metadata": {},
   "outputs": [
    {
     "name": "stdout",
     "output_type": "stream",
     "text": [
      "({'name': 'hottling', 'pvalue': 0.007112058709322744, 'c': 0.9}, {'name': 'hottling', 'pvalue': 0.0026626551023436473, 'c': 0.9})\n"
     ]
    }
   ],
   "source": [
    "print(fun(0.9))\n"
   ]
  },
  {
   "cell_type": "code",
   "execution_count": null,
   "metadata": {},
   "outputs": [],
   "source": []
  }
 ],
 "metadata": {
  "kernelspec": {
   "display_name": "Python 3",
   "language": "python",
   "name": "python3"
  },
  "language_info": {
   "codemirror_mode": {
    "name": "ipython",
    "version": 3
   },
   "file_extension": ".py",
   "mimetype": "text/x-python",
   "name": "python",
   "nbconvert_exporter": "python",
   "pygments_lexer": "ipython3",
   "version": "3.11.0"
  }
 },
 "nbformat": 4,
 "nbformat_minor": 2
}
